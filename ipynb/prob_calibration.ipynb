{
 "cells": [
  {
   "cell_type": "code",
   "execution_count": 1,
   "metadata": {
    "collapsed": true
   },
   "outputs": [],
   "source": [
    "import numpy as np\n",
    "import matplotlib.pyplot as plt\n",
    "%matplotlib inline"
   ]
  },
  {
   "cell_type": "code",
   "execution_count": 55,
   "metadata": {
    "collapsed": true
   },
   "outputs": [],
   "source": [
    "num_obs = 50012"
   ]
  },
  {
   "cell_type": "code",
   "execution_count": 56,
   "metadata": {
    "collapsed": false
   },
   "outputs": [
    {
     "data": {
      "text/plain": [
       "array([ 0.0748,  0.3168,  0.1169, ...,  0.7943,  0.0988,  0.5526])"
      ]
     },
     "execution_count": 56,
     "metadata": {},
     "output_type": "execute_result"
    }
   ],
   "source": [
    "## Generate the true probabilities\n",
    "probvec = np.round(np.random.uniform(0,1,num_obs),decimals=4)\n",
    "probvec"
   ]
  },
  {
   "cell_type": "code",
   "execution_count": 57,
   "metadata": {
    "collapsed": false
   },
   "outputs": [
    {
     "data": {
      "text/plain": [
       "array([0, 0, 0, ..., 0, 0, 0])"
      ]
     },
     "execution_count": 57,
     "metadata": {},
     "output_type": "execute_result"
    }
   ],
   "source": [
    "## Generate a single 0-1 Bernoulli outcome for each true probability\n",
    "resultvec = np.random.binomial(1,p=probvec,size=num_obs)\n",
    "resultvec"
   ]
  },
  {
   "cell_type": "code",
   "execution_count": 58,
   "metadata": {
    "collapsed": false
   },
   "outputs": [],
   "source": [
    "## Come up with a complicated (yet monotonic) function to create a score\n",
    "scorevec = np.round((((probvec+2)*7)+2)**3,decimals=2)\n",
    "scorevec = np.sign(scorevec-6000)*(np.abs(scorevec-6000))**(1/3) + 3"
   ]
  },
  {
   "cell_type": "code",
   "execution_count": 59,
   "metadata": {
    "collapsed": false
   },
   "outputs": [
    {
     "data": {
      "text/plain": [
       "[<matplotlib.lines.Line2D at 0x114f05fd0>]"
      ]
     },
     "execution_count": 59,
     "metadata": {},
     "output_type": "execute_result"
    },
    {
     "data": {
      "image/png": "[encoded data removed]",
      "text/plain": [
       "<matplotlib.figure.Figure at 0x114c4ca58>"
      ]
     },
     "metadata": {},
     "output_type": "display_data"
    }
   ],
   "source": [
    "## Plot the function\n",
    "plt.plot(scorevec, probvec, 'r.')"
   ]
  },
  {
   "cell_type": "code",
   "execution_count": 60,
   "metadata": {
    "collapsed": false
   },
   "outputs": [],
   "source": [
    "## The goal is to recover something close to the above function, based solely on scorevec and resultvec"
   ]
  },
  {
   "cell_type": "code",
   "execution_count": 61,
   "metadata": {
    "collapsed": false
   },
   "outputs": [
    {
     "name": "stdout",
     "output_type": "stream",
     "text": [
      "min_bin_size = 224.0\n"
     ]
    },
    {
     "data": {
      "text/plain": [
       "[<matplotlib.lines.Line2D at 0x11562c080>]"
      ]
     },
     "execution_count": 61,
     "metadata": {},
     "output_type": "execute_result"
    },
    {
     "data": {
      "image/png": "[encoded data removed]",
      "text/plain": [
       "<matplotlib.figure.Figure at 0x114c27748>"
      ]
     },
     "metadata": {},
     "output_type": "display_data"
    }
   ],
   "source": [
    "# def calibrate_scores(scorevec, resultvec)\n",
    "\n",
    "## do a bunch of input checking\n",
    "veclen = len(scorevec)\n",
    "min_bin_size = np.round((veclen)**(1/2))\n",
    "print(\"min_bin_size = {}\".format(min_bin_size))\n",
    "#sort by scorevec, \"carrying along\" the resultvec\n",
    "sorted_mat = np.hstack((scorevec,resultvec)).reshape(2,-1).T\n",
    "idx = np.argsort(sorted_mat[:,0])\n",
    "sorted_mat=sorted_mat[idx,:]\n",
    "sorted_mat\n",
    "\n",
    "## Create intervals\n",
    "#fractional_bin_index_length = veclen/binsize\n",
    "num_bins = np.floor(veclen/min_bin_size).astype(int)\n",
    "bin_left_indices = (np.floor(np.array(range(0,int(num_bins))) *(veclen/min_bin_size))).astype(int)\n",
    "bin_right_indices = np.copy(bin_left_indices)\n",
    "bin_right_indices[0:(num_bins-1)] = bin_left_indices[1:num_bins]\n",
    "bin_right_indices[num_bins-1]=veclen\n",
    "#bin_right_indices\n",
    "#bin_left_indices\n",
    "#xvec = np.zeros(num_bins)\n",
    "#yvec = np.zeros(num_bins)\n",
    "xvec = [np.median(sorted_mat[bin_left_indices[i]:bin_right_indices[i],0]) for i in range(num_bins)]\n",
    "yvec = [np.mean(sorted_mat[bin_left_indices[i]:bin_right_indices[i],1]) for i in range(num_bins)]\n",
    "\n",
    "## Initialize empty vectors\n",
    "## Get bin representative value and mean of resultvec\n",
    "## export x,y points\n",
    "plt.plot(xvec, yvec)"
   ]
  },
  {
   "cell_type": "code",
   "execution_count": 62,
   "metadata": {
    "collapsed": true
   },
   "outputs": [],
   "source": [
    "import statsmodels.api as sm\n",
    "lowess = sm.nonparametric.lowess\n",
    "z = lowess(yvec, xvec)\n",
    "w = lowess(resultvec, scorevec)\n",
    "\n"
   ]
  },
  {
   "cell_type": "code",
   "execution_count": 63,
   "metadata": {
    "collapsed": false
   },
   "outputs": [
    {
     "data": {
      "text/plain": [
       "[<matplotlib.lines.Line2D at 0x114e5a4e0>]"
      ]
     },
     "execution_count": 63,
     "metadata": {},
     "output_type": "execute_result"
    },
    {
     "data": {
      "image/png": "[encoded data removed]",
      "text/plain": [
       "<matplotlib.figure.Figure at 0x114e5a278>"
      ]
     },
     "metadata": {},
     "output_type": "display_data"
    }
   ],
   "source": [
    "plt.plot(xvec, yvec)\n",
    "plt.plot(scorevec, probvec, 'r.')\n",
    "#plt.plot(z[:,0],z[:,1], 'c')\n",
    "#plt.plot(w[:,0],w[:,1], 'g')\n",
    "\n"
   ]
  },
  {
   "cell_type": "code",
   "execution_count": 64,
   "metadata": {
    "collapsed": false
   },
   "outputs": [
    {
     "data": {
      "text/plain": [
       "5.0"
      ]
     },
     "execution_count": 64,
     "metadata": {},
     "output_type": "execute_result"
    }
   ],
   "source": [
    "np.median([5,2,7])"
   ]
  },
  {
   "cell_type": "code",
   "execution_count": 65,
   "metadata": {
    "collapsed": false
   },
   "outputs": [],
   "source": [
    "import statsmodels.api as sm\n",
    "lowess = sm.nonparametric.lowess\n",
    "z = lowess(yvec, xvec)\n",
    "#w = lowess(yvec, xvec, frac=1./3)\n"
   ]
  },
  {
   "cell_type": "code",
   "execution_count": 66,
   "metadata": {
    "collapsed": false
   },
   "outputs": [
    {
     "data": {
      "text/plain": [
       "[<matplotlib.lines.Line2D at 0x115794940>]"
      ]
     },
     "execution_count": 66,
     "metadata": {},
     "output_type": "execute_result"
    },
    {
     "data": {
      "image/png": "[encoded data removed]",
      "text/plain": [
       "<matplotlib.figure.Figure at 0x11595f080>"
      ]
     },
     "metadata": {},
     "output_type": "display_data"
    }
   ],
   "source": [
    "plt.plot(z[:,0],z[:,1])\n"
   ]
  },
  {
   "cell_type": "code",
   "execution_count": null,
   "metadata": {
    "collapsed": true
   },
   "outputs": [],
   "source": []
  },
  {
   "cell_type": "code",
   "execution_count": null,
   "metadata": {
    "collapsed": true
   },
   "outputs": [],
   "source": []
  }
 ],
 "metadata": {
  "kernelspec": {
   "display_name": "Python 3",
   "language": "python",
   "name": "python3"
  },
  "language_info": {
   "codemirror_mode": {
    "name": "ipython",
    "version": 3
   },
   "file_extension": ".py",
   "mimetype": "text/x-python",
   "name": "python",
   "nbconvert_exporter": "python",
   "pygments_lexer": "ipython3",
   "version": "3.5.1"
  }
 },
 "nbformat": 4,
 "nbformat_minor": 0
}
