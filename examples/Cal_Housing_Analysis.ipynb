{
 "cells": [
  {
   "cell_type": "code",
   "execution_count": 1,
   "metadata": {
    "collapsed": true
   },
   "outputs": [],
   "source": [
    "\n",
    "import pandas as pd\n",
    "import numpy as np\n",
    "import matplotlib.pyplot as plt\n",
    "import ml_insights as mli\n",
    "import imp\n",
    "\n",
    "# To Plot matplotlib figures inline on the notebook\n",
    "%matplotlib inline"
   ]
  },
  {
   "cell_type": "code",
   "execution_count": 2,
   "metadata": {
    "collapsed": false
   },
   "outputs": [
    {
     "data": {
      "text/plain": [
       "<module 'ml_insights' from '/Users/brianlucena/Work/Git/numeristical/introspective/ml_insights/__init__.py'>"
      ]
     },
     "execution_count": 2,
     "metadata": {},
     "output_type": "execute_result"
    }
   ],
   "source": [
    "imp.reload(mli)"
   ]
  },
  {
   "cell_type": "code",
   "execution_count": 3,
   "metadata": {
    "collapsed": true
   },
   "outputs": [],
   "source": [
    "datafile = \"data/cal_housing_data.csv\""
   ]
  },
  {
   "cell_type": "code",
   "execution_count": 4,
   "metadata": {
    "collapsed": true
   },
   "outputs": [],
   "source": [
    "df=pd.read_csv(datafile)"
   ]
  },
  {
   "cell_type": "code",
   "execution_count": 5,
   "metadata": {
    "collapsed": false
   },
   "outputs": [
    {
     "name": "stdout",
     "output_type": "stream",
     "text": [
      "<class 'pandas.core.frame.DataFrame'>\n",
      "RangeIndex: 20640 entries, 0 to 20639\n",
      "Data columns (total 9 columns):\n",
      "longitude           20640 non-null float64\n",
      "latitude            20640 non-null float64\n",
      "housingMedianAge    20640 non-null float64\n",
      "totalRooms          20640 non-null float64\n",
      "totalBedrooms       20640 non-null float64\n",
      "population          20640 non-null float64\n",
      "households          20640 non-null float64\n",
      "medianIncome        20640 non-null float64\n",
      "medianHouseValue    20640 non-null float64\n",
      "dtypes: float64(9)\n",
      "memory usage: 1.4 MB\n"
     ]
    }
   ],
   "source": [
    "df.info()"
   ]
  },
  {
   "cell_type": "code",
   "execution_count": 6,
   "metadata": {
    "collapsed": false
   },
   "outputs": [
    {
     "data": {
      "image/png": "[encoded data removed]",
      "text/plain": [
       "<matplotlib.figure.Figure at 0x10d92f3c8>"
      ]
     },
     "metadata": {},
     "output_type": "display_data"
    }
   ],
   "source": [
    "df = df[df['medianHouseValue']<500000]\n",
    "\n",
    "X=df.loc[:,'longitude':'medianIncome']\n",
    "y=df['medianHouseValue']\n",
    "X\n",
    "plt.hist(df.medianHouseValue,range=[0,600000],bins=600);"
   ]
  },
  {
   "cell_type": "code",
   "execution_count": 7,
   "metadata": {
    "collapsed": false
   },
   "outputs": [
    {
     "name": "stdout",
     "output_type": "stream",
     "text": [
      "<class 'pandas.core.frame.DataFrame'>\n",
      "Int64Index: 19648 entries, 0 to 20639\n",
      "Data columns (total 9 columns):\n",
      "longitude           19648 non-null float64\n",
      "latitude            19648 non-null float64\n",
      "housingMedianAge    19648 non-null float64\n",
      "totalRooms          19648 non-null float64\n",
      "totalBedrooms       19648 non-null float64\n",
      "population          19648 non-null float64\n",
      "households          19648 non-null float64\n",
      "medianIncome        19648 non-null float64\n",
      "medianHouseValue    19648 non-null float64\n",
      "dtypes: float64(9)\n",
      "memory usage: 1.5 MB\n"
     ]
    }
   ],
   "source": [
    "df.info()"
   ]
  },
  {
   "cell_type": "code",
   "execution_count": 8,
   "metadata": {
    "collapsed": true
   },
   "outputs": [],
   "source": [
    "from sklearn.cross_validation import train_test_split\n",
    "from sklearn.ensemble import RandomForestRegressor, GradientBoostingRegressor\n",
    "from sklearn.linear_model import LinearRegression"
   ]
  },
  {
   "cell_type": "code",
   "execution_count": 9,
   "metadata": {
    "collapsed": false
   },
   "outputs": [],
   "source": [
    "X_train, X_test, y_train, y_test = train_test_split(X, y, test_size=0.3,\n",
    "                                                    random_state=42)"
   ]
  },
  {
   "cell_type": "code",
   "execution_count": 10,
   "metadata": {
    "collapsed": true
   },
   "outputs": [],
   "source": [
    "gbmodel1 = GradientBoostingRegressor(n_estimators = 1000, \n",
    "                                     learning_rate = .01,\n",
    "                                    max_depth = 7)\n",
    "gbmodel1.fit(X_train,y_train)\n",
    "pred_vals_gb1 = gbmodel1.predict(X_test)"
   ]
  },
  {
   "cell_type": "code",
   "execution_count": 11,
   "metadata": {
    "collapsed": true
   },
   "outputs": [],
   "source": [
    "pts_to_graph = np.random.choice(X_train.shape[0],500,replace=False)\n",
    "pts_to_graph;"
   ]
  },
  {
   "cell_type": "code",
   "execution_count": 13,
   "metadata": {
    "collapsed": false
   },
   "outputs": [
    {
     "data": {
      "image/png": "[encoded data removed]",
      "text/plain": [
       "<matplotlib.figure.Figure at 0x113f4b400>"
      ]
     },
     "metadata": {},
     "output_type": "display_data"
    }
   ],
   "source": [
    "mli.dependence_plot(gbmodel1,X_train,column_num=2, resolution=1000)"
   ]
  },
  {
   "cell_type": "code",
   "execution_count": null,
   "metadata": {
    "collapsed": true
   },
   "outputs": [],
   "source": []
  },
  {
   "cell_type": "code",
   "execution_count": null,
   "metadata": {
    "collapsed": true
   },
   "outputs": [],
   "source": []
  },
  {
   "cell_type": "code",
   "execution_count": null,
   "metadata": {
    "collapsed": true
   },
   "outputs": [],
   "source": []
  },
  {
   "cell_type": "code",
   "execution_count": null,
   "metadata": {
    "collapsed": true
   },
   "outputs": [],
   "source": []
  },
  {
   "cell_type": "code",
   "execution_count": null,
   "metadata": {
    "collapsed": true
   },
   "outputs": [],
   "source": []
  },
  {
   "cell_type": "code",
   "execution_count": 26,
   "metadata": {
    "collapsed": false
   },
   "outputs": [],
   "source": [
    "pts_to_graph = np.random.choice(X_train.shape[0],500,replace=False)\n",
    "pts_to_graph;"
   ]
  },
  {
   "cell_type": "code",
   "execution_count": 54,
   "metadata": {
    "collapsed": false
   },
   "outputs": [
    {
     "data": {
      "image/png": "[encoded data removed]",
      "text/plain": [
       "<matplotlib.figure.Figure at 0x11375bf60>"
      ]
     },
     "metadata": {},
     "output_type": "display_data"
    }
   ],
   "source": [
    "black_box_visualize(gbmodel2,X_train,column_num=0, resolution=1000)"
   ]
  },
  {
   "cell_type": "code",
   "execution_count": null,
   "metadata": {
    "collapsed": false
   },
   "outputs": [],
   "source": [
    "50=='yes'"
   ]
  },
  {
   "cell_type": "code",
   "execution_count": null,
   "metadata": {
    "collapsed": false
   },
   "outputs": [],
   "source": [
    "np.random.seed(42)"
   ]
  },
  {
   "cell_type": "code",
   "execution_count": null,
   "metadata": {
    "collapsed": false
   },
   "outputs": [],
   "source": [
    "def variable_effect_plot(model, dataset, column_num, pts_selected='sample', num_pts=100, col_values='auto',\n",
    "                       resolution = 100, **kwargs):\n",
    "\n",
    "    ## Convert Pandas DataFrame to nparray explicitly to make life easier\n",
    "    if type(dataset)==pd.DataFrame:\n",
    "        dataset = dataset.values\n",
    "\n",
    "    ## Determine which points to serve as base points depending on pts_selected and num_pts    \n",
    "    if ((type(pts_selected) == str) and (pts_selected=='sample')):\n",
    "        pts_chosen = np.random.choice(dataset.shape[0],min(dataset.shape[0],num_pts),replace=False)\n",
    "    elif ((type(pts_selected) == str) and (pts_selected=='first')):\n",
    "        pts_chosen = np.array(range(np.min(dataset.shape[0],num_pts)))\n",
    "    else:\n",
    "        pts_chosen = np.array(pts_selected)\n",
    "    \n",
    "    ## Determine the range of values to plot for the chosen column\n",
    "    if (type(col_values)==str and col_values=='auto'):\n",
    "        values_to_plot = np.linspace(np.min(dataset[:,column_num]),np.max(dataset[:,column_num]),resolution)\n",
    "    else:\n",
    "        values_to_plot = np.array(col_values)    \n",
    "   \n",
    "    ## Create the 2d array for differences by values\n",
    "    values_xvec = (values_to_plot[1:]+values_to_plot[:-1])/2\n",
    "    pred_vals_diff = np.zeros((len(pts_chosen),len(values_xvec)))\n",
    "    pred_vals = np.zeros((len(pts_chosen),len(values_to_plot)))\n",
    "\n",
    "    \n",
    "    for i,row in enumerate(dataset[pts_chosen,:]):\n",
    "        y_pred, values = gen_model_pred(model, row, column_num, values_to_plot)\n",
    "        diffvec = np.diff(y_pred)\n",
    "        #plt.scatter(values_xvec,diffvec,**kwargs)\n",
    "        pred_vals_diff[i,:]=diffvec\n",
    "        pred_vals[i,:]=y_pred\n",
    "    \n",
    "    median_diff_vec = np.zeros(len(values_xvec))\n",
    "    median_val_vec = np.zeros(len(values_to_plot))\n",
    "\n",
    "    for j in range(len(values_to_plot)):\n",
    "        median_val_vec[j] = np.median(pred_vals[:,j])\n",
    "    for j in range(len(values_xvec)):\n",
    "        median_diff_vec[j] = np.median(pred_vals_diff[:,j])\n",
    "    #plt.plot(values_xvec,np.cumsum(median_diff_vec),c='k',marker='_')\n",
    "    plt.plot(values_to_plot,(median_val_vec),c='k')\n",
    "\n",
    "\n",
    "    \n",
    "    for j in range((pred_vals_diff.shape[0])):\n",
    "        plt.scatter(values_xvec,pred_vals_diff[j,:]+median_val_vec[1:]-median_diff_vec,**kwargs)\n",
    "\n",
    "    return pred_vals,pred_vals_diff"
   ]
  },
  {
   "cell_type": "code",
   "execution_count": null,
   "metadata": {
    "collapsed": false
   },
   "outputs": [],
   "source": [
    "a,b = variable_effect_plot(gbmodel1,X_train,column_num=0,pts_selected = pts_to_graph,alpha=.5,marker='_', resolution=30)"
   ]
  },
  {
   "cell_type": "code",
   "execution_count": null,
   "metadata": {
    "collapsed": false
   },
   "outputs": [],
   "source": [
    "np.concatenate((a,b), axis=1).shape"
   ]
  },
  {
   "cell_type": "code",
   "execution_count": null,
   "metadata": {
    "collapsed": false
   },
   "outputs": [],
   "source": [
    "from sklearn.cluster import KMeans"
   ]
  },
  {
   "cell_type": "code",
   "execution_count": null,
   "metadata": {
    "collapsed": true
   },
   "outputs": [],
   "source": [
    "km_model = KMeans(n_clusters=6)"
   ]
  },
  {
   "cell_type": "code",
   "execution_count": null,
   "metadata": {
    "collapsed": false
   },
   "outputs": [],
   "source": [
    "#cluster_num = km_model.fit_predict(np.concatenate((a,b), axis=1))\n",
    "cluster_num = km_model.fit_predict(b)"
   ]
  },
  {
   "cell_type": "code",
   "execution_count": null,
   "metadata": {
    "collapsed": false
   },
   "outputs": [],
   "source": [
    "black_box_visualize(gbmodel2,X_train,column_num=0,pts_selected=pts_to_graph,alpha=1,marker='x',\n",
    "                    c='k')"
   ]
  },
  {
   "cell_type": "code",
   "execution_count": null,
   "metadata": {
    "collapsed": false
   },
   "outputs": [],
   "source": [
    "black_box_visualize(gbmodel2,X_train,column_num=0,pts_selected=pts_to_graph[cluster_num==0],alpha=1,marker='x',\n",
    "                    c='k')"
   ]
  },
  {
   "cell_type": "code",
   "execution_count": null,
   "metadata": {
    "collapsed": false
   },
   "outputs": [],
   "source": [
    "black_box_visualize(gbmodel2,X_train,column_num=0,pts_selected=pts_to_graph[cluster_num==1],alpha=1,marker='x',\n",
    "                    c='k')"
   ]
  },
  {
   "cell_type": "code",
   "execution_count": null,
   "metadata": {
    "collapsed": false
   },
   "outputs": [],
   "source": [
    "black_box_visualize(gbmodel2,X_train,column_num=0,pts_selected=pts_to_graph[cluster_num==2],alpha=1,marker='x',\n",
    "                    c='k')"
   ]
  },
  {
   "cell_type": "code",
   "execution_count": null,
   "metadata": {
    "collapsed": false
   },
   "outputs": [],
   "source": [
    "black_box_visualize(gbmodel2,X_train,column_num=0,pts_selected=pts_to_graph[cluster_num==3],alpha=.01,marker='x',\n",
    "                    c='k')"
   ]
  },
  {
   "cell_type": "code",
   "execution_count": null,
   "metadata": {
    "collapsed": false
   },
   "outputs": [],
   "source": [
    "black_box_visualize(gbmodel2,X_train,column_num=0,pts_selected=pts_to_graph[cluster_num==4],alpha=.01,marker='x',\n",
    "                    c='k')"
   ]
  },
  {
   "cell_type": "code",
   "execution_count": null,
   "metadata": {
    "collapsed": false
   },
   "outputs": [],
   "source": [
    "black_box_visualize(gbmodel2,X_train,column_num=0,pts_selected=pts_to_graph[cluster_num==5],alpha=.01,marker='x',\n",
    "                    c='k')"
   ]
  },
  {
   "cell_type": "code",
   "execution_count": null,
   "metadata": {
    "collapsed": false
   },
   "outputs": [],
   "source": [
    "black_box_visualize(gbmodel2,X_train,column_num=0,pts_selected=pts_to_graph[cluster_num==6],alpha=.01,marker='x',\n",
    "                    c='k')"
   ]
  },
  {
   "cell_type": "code",
   "execution_count": null,
   "metadata": {
    "collapsed": false
   },
   "outputs": [],
   "source": [
    "black_box_visualize(gbmodel2,X_train,column_num=0,pts_selected=pts_to_graph[cluster_num==7],alpha=.01,marker='x',\n",
    "                    c='k')"
   ]
  },
  {
   "cell_type": "code",
   "execution_count": null,
   "metadata": {
    "collapsed": false
   },
   "outputs": [],
   "source": [
    "black_box_visualize(gbmodel2,X_train,column_num=0,pts_selected=pts_to_graph[cluster_num==8],alpha=.01,marker='x',\n",
    "                    c='k')"
   ]
  },
  {
   "cell_type": "code",
   "execution_count": null,
   "metadata": {
    "collapsed": false
   },
   "outputs": [],
   "source": [
    "black_box_visualize(gbmodel2,X_train,column_num=0,pts_selected=pts_to_graph[cluster_num==9],alpha=.01,marker='x',\n",
    "                    c='k')"
   ]
  },
  {
   "cell_type": "code",
   "execution_count": null,
   "metadata": {
    "collapsed": false
   },
   "outputs": [],
   "source": [
    "black_box_visualize(gbmodel2,X_train,column_num=0,pts_selected=pts_to_graph[cluster_num==10],alpha=.01,marker='x',\n",
    "                    c='k')"
   ]
  },
  {
   "cell_type": "code",
   "execution_count": null,
   "metadata": {
    "collapsed": false
   },
   "outputs": [],
   "source": [
    "black_box_visualize(gbmodel2,X_train,column_num=0,pts_selected=pts_to_graph[cluster_num==11],alpha=.01,marker='x',\n",
    "                    c='k')"
   ]
  },
  {
   "cell_type": "code",
   "execution_count": null,
   "metadata": {
    "collapsed": false
   },
   "outputs": [],
   "source": [
    "plt.hist(X_train.iloc[pts_to_graph[cluster_num==0],:].longitude, bins=100, range=(-125,-115));"
   ]
  },
  {
   "cell_type": "code",
   "execution_count": null,
   "metadata": {
    "collapsed": false
   },
   "outputs": [],
   "source": [
    "plt.hist(X_train.iloc[pts_to_graph[cluster_num==1],:].longitude, bins=100, range=(-125,-115));"
   ]
  },
  {
   "cell_type": "code",
   "execution_count": null,
   "metadata": {
    "collapsed": false
   },
   "outputs": [],
   "source": [
    "plt.hist(X_train.iloc[pts_to_graph[cluster_num==2],:].longitude, bins=100, range=(-125,-115));"
   ]
  },
  {
   "cell_type": "code",
   "execution_count": null,
   "metadata": {
    "collapsed": false
   },
   "outputs": [],
   "source": [
    "plt.hist(X_train.iloc[pts_to_graph[cluster_num==3],:].longitude, bins=100, range=(-125,-115));"
   ]
  },
  {
   "cell_type": "code",
   "execution_count": null,
   "metadata": {
    "collapsed": false
   },
   "outputs": [],
   "source": [
    "plt.hist(X_train.iloc[pts_to_graph[cluster_num==4],:].longitude, bins=100, range=(-125,-115));"
   ]
  },
  {
   "cell_type": "code",
   "execution_count": null,
   "metadata": {
    "collapsed": false
   },
   "outputs": [],
   "source": [
    "plt.hist(X_train.iloc[pts_to_graph[cluster_num==5],:].longitude, bins=100, range=(-125,-115));"
   ]
  },
  {
   "cell_type": "code",
   "execution_count": null,
   "metadata": {
    "collapsed": false
   },
   "outputs": [],
   "source": [
    "np.argmax(df.columns=='households')"
   ]
  },
  {
   "cell_type": "code",
   "execution_count": 49,
   "metadata": {
    "collapsed": false
   },
   "outputs": [
    {
     "data": {
      "text/plain": [
       "array([2, 5, 3, 1, 6, 4])"
      ]
     },
     "execution_count": 49,
     "metadata": {},
     "output_type": "execute_result"
    }
   ],
   "source": [
    "np.random.choice(range(1,7), size=6, replace=False)"
   ]
  }
 ],
 "metadata": {
  "kernelspec": {
   "display_name": "Python 3",
   "language": "python",
   "name": "python3"
  },
  "language_info": {
   "codemirror_mode": {
    "name": "ipython",
    "version": 3
   },
   "file_extension": ".py",
   "mimetype": "text/x-python",
   "name": "python",
   "nbconvert_exporter": "python",
   "pygments_lexer": "ipython3",
   "version": "3.5.1"
  }
 },
 "nbformat": 4,
 "nbformat_minor": 0
}
