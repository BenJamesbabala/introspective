{
 "cells": [
  {
   "cell_type": "code",
   "execution_count": 1,
   "metadata": {
    "collapsed": false
   },
   "outputs": [],
   "source": [
    "\n",
    "import pandas as pd\n",
    "import numpy as np\n",
    "import matplotlib.pyplot as plt\n",
    "import ml_insights as mli\n",
    "\n",
    "\n",
    "# To Plot matplotlib figures inline on the notebook\n",
    "%matplotlib inline"
   ]
  },
  {
   "cell_type": "code",
   "execution_count": 2,
   "metadata": {
    "collapsed": true
   },
   "outputs": [],
   "source": [
    "datafile = \"data/Ames_Housing_Data.tsv\""
   ]
  },
  {
   "cell_type": "code",
   "execution_count": 3,
   "metadata": {
    "collapsed": false
   },
   "outputs": [],
   "source": [
    "df=pd.read_csv(datafile, sep='\\t')"
   ]
  },
  {
   "cell_type": "code",
   "execution_count": 4,
   "metadata": {
    "collapsed": false
   },
   "outputs": [
    {
     "name": "stdout",
     "output_type": "stream",
     "text": [
      "<class 'pandas.core.frame.DataFrame'>\n",
      "RangeIndex: 2930 entries, 0 to 2929\n",
      "Data columns (total 82 columns):\n",
      "Order              2930 non-null int64\n",
      "PID                2930 non-null int64\n",
      "MS SubClass        2930 non-null int64\n",
      "MS Zoning          2930 non-null object\n",
      "Lot Frontage       2440 non-null float64\n",
      "Lot Area           2930 non-null int64\n",
      "Street             2930 non-null object\n",
      "Alley              198 non-null object\n",
      "Lot Shape          2930 non-null object\n",
      "Land Contour       2930 non-null object\n",
      "Utilities          2930 non-null object\n",
      "Lot Config         2930 non-null object\n",
      "Land Slope         2930 non-null object\n",
      "Neighborhood       2930 non-null object\n",
      "Condition 1        2930 non-null object\n",
      "Condition 2        2930 non-null object\n",
      "Bldg Type          2930 non-null object\n",
      "House Style        2930 non-null object\n",
      "Overall Qual       2930 non-null int64\n",
      "Overall Cond       2930 non-null int64\n",
      "Year Built         2930 non-null int64\n",
      "Year Remod/Add     2930 non-null int64\n",
      "Roof Style         2930 non-null object\n",
      "Roof Matl          2930 non-null object\n",
      "Exterior 1st       2930 non-null object\n",
      "Exterior 2nd       2930 non-null object\n",
      "Mas Vnr Type       2907 non-null object\n",
      "Mas Vnr Area       2907 non-null float64\n",
      "Exter Qual         2930 non-null object\n",
      "Exter Cond         2930 non-null object\n",
      "Foundation         2930 non-null object\n",
      "Bsmt Qual          2850 non-null object\n",
      "Bsmt Cond          2850 non-null object\n",
      "Bsmt Exposure      2847 non-null object\n",
      "BsmtFin Type 1     2850 non-null object\n",
      "BsmtFin SF 1       2929 non-null float64\n",
      "BsmtFin Type 2     2849 non-null object\n",
      "BsmtFin SF 2       2929 non-null float64\n",
      "Bsmt Unf SF        2929 non-null float64\n",
      "Total Bsmt SF      2929 non-null float64\n",
      "Heating            2930 non-null object\n",
      "Heating QC         2930 non-null object\n",
      "Central Air        2930 non-null object\n",
      "Electrical         2929 non-null object\n",
      "1st Flr SF         2930 non-null int64\n",
      "2nd Flr SF         2930 non-null int64\n",
      "Low Qual Fin SF    2930 non-null int64\n",
      "Gr Liv Area        2930 non-null int64\n",
      "Bsmt Full Bath     2928 non-null float64\n",
      "Bsmt Half Bath     2928 non-null float64\n",
      "Full Bath          2930 non-null int64\n",
      "Half Bath          2930 non-null int64\n",
      "Bedroom AbvGr      2930 non-null int64\n",
      "Kitchen AbvGr      2930 non-null int64\n",
      "Kitchen Qual       2930 non-null object\n",
      "TotRms AbvGrd      2930 non-null int64\n",
      "Functional         2930 non-null object\n",
      "Fireplaces         2930 non-null int64\n",
      "Fireplace Qu       1508 non-null object\n",
      "Garage Type        2773 non-null object\n",
      "Garage Yr Blt      2771 non-null float64\n",
      "Garage Finish      2771 non-null object\n",
      "Garage Cars        2929 non-null float64\n",
      "Garage Area        2929 non-null float64\n",
      "Garage Qual        2771 non-null object\n",
      "Garage Cond        2771 non-null object\n",
      "Paved Drive        2930 non-null object\n",
      "Wood Deck SF       2930 non-null int64\n",
      "Open Porch SF      2930 non-null int64\n",
      "Enclosed Porch     2930 non-null int64\n",
      "3Ssn Porch         2930 non-null int64\n",
      "Screen Porch       2930 non-null int64\n",
      "Pool Area          2930 non-null int64\n",
      "Pool QC            13 non-null object\n",
      "Fence              572 non-null object\n",
      "Misc Feature       106 non-null object\n",
      "Misc Val           2930 non-null int64\n",
      "Mo Sold            2930 non-null int64\n",
      "Yr Sold            2930 non-null int64\n",
      "Sale Type          2930 non-null object\n",
      "Sale Condition     2930 non-null object\n",
      "SalePrice          2930 non-null int64\n",
      "dtypes: float64(11), int64(28), object(43)\n",
      "memory usage: 1.8+ MB\n"
     ]
    }
   ],
   "source": [
    "df.info()"
   ]
  },
  {
   "cell_type": "code",
   "execution_count": 5,
   "metadata": {
    "collapsed": false
   },
   "outputs": [
    {
     "data": {
      "text/plain": [
       "Index(['Order', 'PID', 'MS SubClass', 'MS Zoning', 'Lot Frontage', 'Lot Area',\n",
       "       'Street', 'Alley', 'Lot Shape', 'Land Contour', 'Utilities',\n",
       "       'Lot Config', 'Land Slope', 'Neighborhood', 'Condition 1',\n",
       "       'Condition 2', 'Bldg Type', 'House Style', 'Overall Qual',\n",
       "       'Overall Cond', 'Year Built', 'Year Remod/Add', 'Roof Style',\n",
       "       'Roof Matl', 'Exterior 1st', 'Exterior 2nd', 'Mas Vnr Type',\n",
       "       'Mas Vnr Area', 'Exter Qual', 'Exter Cond', 'Foundation', 'Bsmt Qual',\n",
       "       'Bsmt Cond', 'Bsmt Exposure', 'BsmtFin Type 1', 'BsmtFin SF 1',\n",
       "       'BsmtFin Type 2', 'BsmtFin SF 2', 'Bsmt Unf SF', 'Total Bsmt SF',\n",
       "       'Heating', 'Heating QC', 'Central Air', 'Electrical', '1st Flr SF',\n",
       "       '2nd Flr SF', 'Low Qual Fin SF', 'Gr Liv Area', 'Bsmt Full Bath',\n",
       "       'Bsmt Half Bath', 'Full Bath', 'Half Bath', 'Bedroom AbvGr',\n",
       "       'Kitchen AbvGr', 'Kitchen Qual', 'TotRms AbvGrd', 'Functional',\n",
       "       'Fireplaces', 'Fireplace Qu', 'Garage Type', 'Garage Yr Blt',\n",
       "       'Garage Finish', 'Garage Cars', 'Garage Area', 'Garage Qual',\n",
       "       'Garage Cond', 'Paved Drive', 'Wood Deck SF', 'Open Porch SF',\n",
       "       'Enclosed Porch', '3Ssn Porch', 'Screen Porch', 'Pool Area', 'Pool QC',\n",
       "       'Fence', 'Misc Feature', 'Misc Val', 'Mo Sold', 'Yr Sold', 'Sale Type',\n",
       "       'Sale Condition', 'SalePrice'],\n",
       "      dtype='object')"
      ]
     },
     "execution_count": 5,
     "metadata": {},
     "output_type": "execute_result"
    }
   ],
   "source": [
    "df.columns"
   ]
  },
  {
   "cell_type": "code",
   "execution_count": 6,
   "metadata": {
    "collapsed": false
   },
   "outputs": [],
   "source": [
    "#X=df.loc[:,['MS SubClass','Lot Area','Overall Qual',\n",
    "##       'Overall Cond', 'Year Built', 'Year Remod/Add','BsmtFin SF 1',\n",
    "#    'BsmtFin SF 2', 'Bsmt Unf SF', 'Total Bsmt SF','1st Flr SF',\n",
    "#       '2nd Flr SF', 'Low Qual Fin SF', 'Gr Liv Area', 'Bsmt Full Bath',\n",
    "#       'Bsmt Half Bath', 'Full Bath', 'Half Bath', 'Bedroom AbvGr',\n",
    "#       'Kitchen AbvGr','TotRms AbvGrd', 'Fireplaces', 'Garage Cars', 'Garage Area','Pool Area']]\n",
    "X=df.loc[:,['Lot Area','Overall Qual',\n",
    "       'Overall Cond', 'Year Built', 'Year Remod/Add',\n",
    "        'Gr Liv Area', \n",
    "        'Full Bath', 'Half Bath', 'Bedroom AbvGr',\n",
    "        'Fireplaces', 'Garage Cars', 'Garage Area','Pool Area']]\n",
    "\n",
    "\n",
    "\n",
    "\n",
    "y=df['SalePrice']"
   ]
  },
  {
   "cell_type": "code",
   "execution_count": 7,
   "metadata": {
    "collapsed": false,
    "scrolled": true
   },
   "outputs": [],
   "source": [
    "#X['garbage']=np.random.uniform(size =19648)"
   ]
  },
  {
   "cell_type": "code",
   "execution_count": 8,
   "metadata": {
    "collapsed": false
   },
   "outputs": [
    {
     "name": "stdout",
     "output_type": "stream",
     "text": [
      "<class 'pandas.core.frame.DataFrame'>\n",
      "RangeIndex: 2930 entries, 0 to 2929\n",
      "Data columns (total 13 columns):\n",
      "Lot Area          2930 non-null int64\n",
      "Overall Qual      2930 non-null int64\n",
      "Overall Cond      2930 non-null int64\n",
      "Year Built        2930 non-null int64\n",
      "Year Remod/Add    2930 non-null int64\n",
      "Gr Liv Area       2930 non-null int64\n",
      "Full Bath         2930 non-null int64\n",
      "Half Bath         2930 non-null int64\n",
      "Bedroom AbvGr     2930 non-null int64\n",
      "Fireplaces        2930 non-null int64\n",
      "Garage Cars       2929 non-null float64\n",
      "Garage Area       2929 non-null float64\n",
      "Pool Area         2930 non-null int64\n",
      "dtypes: float64(2), int64(11)\n",
      "memory usage: 297.7 KB\n"
     ]
    }
   ],
   "source": [
    "X.info()"
   ]
  },
  {
   "cell_type": "code",
   "execution_count": 9,
   "metadata": {
    "collapsed": true
   },
   "outputs": [],
   "source": [
    "X = X.fillna(0)"
   ]
  },
  {
   "cell_type": "code",
   "execution_count": 10,
   "metadata": {
    "collapsed": false
   },
   "outputs": [
    {
     "name": "stdout",
     "output_type": "stream",
     "text": [
      "<class 'pandas.core.frame.DataFrame'>\n",
      "RangeIndex: 2930 entries, 0 to 2929\n",
      "Data columns (total 13 columns):\n",
      "Lot Area          2930 non-null int64\n",
      "Overall Qual      2930 non-null int64\n",
      "Overall Cond      2930 non-null int64\n",
      "Year Built        2930 non-null int64\n",
      "Year Remod/Add    2930 non-null int64\n",
      "Gr Liv Area       2930 non-null int64\n",
      "Full Bath         2930 non-null int64\n",
      "Half Bath         2930 non-null int64\n",
      "Bedroom AbvGr     2930 non-null int64\n",
      "Fireplaces        2930 non-null int64\n",
      "Garage Cars       2930 non-null float64\n",
      "Garage Area       2930 non-null float64\n",
      "Pool Area         2930 non-null int64\n",
      "dtypes: float64(2), int64(11)\n",
      "memory usage: 297.7 KB\n"
     ]
    }
   ],
   "source": [
    "X.info()"
   ]
  },
  {
   "cell_type": "code",
   "execution_count": 11,
   "metadata": {
    "collapsed": true
   },
   "outputs": [],
   "source": [
    "from sklearn.cross_validation import train_test_split\n",
    "from sklearn.ensemble import RandomForestRegressor, GradientBoostingRegressor, GradientBoostingClassifier\n",
    "from sklearn.linear_model import LinearRegression"
   ]
  },
  {
   "cell_type": "code",
   "execution_count": 12,
   "metadata": {
    "collapsed": false
   },
   "outputs": [],
   "source": [
    "X_train, X_test, y_train, y_test = train_test_split(X, y, test_size=0.3,\n",
    "                                                    random_state=42)"
   ]
  },
  {
   "cell_type": "code",
   "execution_count": 13,
   "metadata": {
    "collapsed": false
   },
   "outputs": [
    {
     "data": {
      "text/plain": [
       "GradientBoostingRegressor(alpha=0.9, init=None, learning_rate=0.005,\n",
       "             loss='ls', max_depth=4, max_features=None,\n",
       "             max_leaf_nodes=None, min_samples_leaf=1, min_samples_split=2,\n",
       "             min_weight_fraction_leaf=0.0, n_estimators=1000,\n",
       "             presort='auto', random_state=None, subsample=1.0, verbose=0,\n",
       "             warm_start=False)"
      ]
     },
     "execution_count": 13,
     "metadata": {},
     "output_type": "execute_result"
    }
   ],
   "source": [
    "gbmodel1 = GradientBoostingRegressor(n_estimators = 1000, \n",
    "                                     learning_rate = .005,\n",
    "                                    max_depth = 4)\n",
    "gbmodel1.fit(X_train,y_train)"
   ]
  },
  {
   "cell_type": "code",
   "execution_count": 14,
   "metadata": {
    "collapsed": false
   },
   "outputs": [
    {
     "data": {
      "text/plain": [
       "[<matplotlib.text.Text at 0x113e6f748>,\n",
       " <matplotlib.text.Text at 0x113e6c5c0>,\n",
       " <matplotlib.text.Text at 0x1140064e0>,\n",
       " <matplotlib.text.Text at 0x114006eb8>,\n",
       " <matplotlib.text.Text at 0x113e6fd68>,\n",
       " <matplotlib.text.Text at 0x113e69a58>,\n",
       " <matplotlib.text.Text at 0x113e59be0>,\n",
       " <matplotlib.text.Text at 0x114013748>,\n",
       " <matplotlib.text.Text at 0x1140150b8>,\n",
       " <matplotlib.text.Text at 0x114015ac8>,\n",
       " <matplotlib.text.Text at 0x114018518>,\n",
       " <matplotlib.text.Text at 0x114018f28>,\n",
       " <matplotlib.text.Text at 0x11401b978>]"
      ]
     },
     "execution_count": 14,
     "metadata": {},
     "output_type": "execute_result"
    },
    {
     "data": {
      "image/png": "[encoded data removed]",
      "text/plain": [
       "<matplotlib.figure.Figure at 0x113e40518>"
      ]
     },
     "metadata": {},
     "output_type": "display_data"
    }
   ],
   "source": [
    "fig, ax = plt.subplots()\n",
    "\n",
    "ind = np.array(range(len(X.columns)))+.7\n",
    "plt.barh(ind,gbmodel1.feature_importances_)\n",
    "ax.set_yticks(ind + .7)\n",
    "ax.set_yticklabels((X_test.columns))\n"
   ]
  },
  {
   "cell_type": "code",
   "execution_count": 15,
   "metadata": {
    "collapsed": false
   },
   "outputs": [
    {
     "ename": "AttributeError",
     "evalue": "module 'ml_insights.insights' has no attribute 'model_xray'",
     "output_type": "error",
     "traceback": [
      "\u001b[0;31m---------------------------------------------------------------------------\u001b[0m",
      "\u001b[0;31mAttributeError\u001b[0m                            Traceback (most recent call last)",
      "\u001b[0;32m<ipython-input-15-3e5b1636666a>\u001b[0m in \u001b[0;36m<module>\u001b[0;34m()\u001b[0m\n\u001b[0;32m----> 1\u001b[0;31m \u001b[0mresults\u001b[0m \u001b[0;34m=\u001b[0m \u001b[0mmli\u001b[0m\u001b[0;34m.\u001b[0m\u001b[0minsights\u001b[0m\u001b[0;34m.\u001b[0m\u001b[0mmodel_xray\u001b[0m\u001b[0;34m(\u001b[0m\u001b[0mgbmodel1\u001b[0m\u001b[0;34m,\u001b[0m \u001b[0mX_test\u001b[0m\u001b[0;34m)\u001b[0m\u001b[0;34m\u001b[0m\u001b[0m\n\u001b[0m",
      "\u001b[0;31mAttributeError\u001b[0m: module 'ml_insights.insights' has no attribute 'model_xray'"
     ]
    }
   ],
   "source": [
    "results = mli.insights.model_xray(gbmodel1, X_test)\n"
   ]
  },
  {
   "cell_type": "code",
   "execution_count": null,
   "metadata": {
    "collapsed": false
   },
   "outputs": [],
   "source": [
    "mli.insights.feature_effect_summary(results)"
   ]
  },
  {
   "cell_type": "code",
   "execution_count": null,
   "metadata": {
    "collapsed": false
   },
   "outputs": [],
   "source": [
    "mli.insights.feature_dependence_plots(results, num_pts=10)"
   ]
  },
  {
   "cell_type": "code",
   "execution_count": null,
   "metadata": {
    "collapsed": true
   },
   "outputs": [],
   "source": [
    "y_class = (y>250000).astype(int)"
   ]
  },
  {
   "cell_type": "code",
   "execution_count": null,
   "metadata": {
    "collapsed": false
   },
   "outputs": [],
   "source": [
    "np.mean(y_class)"
   ]
  },
  {
   "cell_type": "code",
   "execution_count": null,
   "metadata": {
    "collapsed": true
   },
   "outputs": [],
   "source": [
    "X_train, X_test, y_train, y_test = train_test_split(X, y_class, test_size=0.3,\n",
    "                                                    random_state=42)"
   ]
  },
  {
   "cell_type": "code",
   "execution_count": null,
   "metadata": {
    "collapsed": false
   },
   "outputs": [],
   "source": [
    "gbmodel2 = GradientBoostingClassifier(n_estimators = 1000, \n",
    "                                     learning_rate = .005,\n",
    "                                    max_depth = 7)\n",
    "gbmodel2.fit(X_train,y_train)\n",
    "pred_vals_gb2 = gbmodel2.predict_proba(X_test)"
   ]
  },
  {
   "cell_type": "code",
   "execution_count": null,
   "metadata": {
    "collapsed": false
   },
   "outputs": [],
   "source": [
    "fig, ax = plt.subplots()\n",
    "\n",
    "ind = np.array(range(len(X.columns)))+.5\n",
    "plt.barh(ind,gbmodel2.feature_importances_)\n",
    "ax.set_yticks(ind + .5)\n",
    "ax.set_yticklabels((X_test.columns))\n",
    "\n"
   ]
  },
  {
   "cell_type": "code",
   "execution_count": null,
   "metadata": {
    "collapsed": false
   },
   "outputs": [],
   "source": [
    "results = mli.insights.model_xray(gbmodel2, X_test,is_classification=True)"
   ]
  },
  {
   "cell_type": "code",
   "execution_count": null,
   "metadata": {
    "collapsed": false
   },
   "outputs": [],
   "source": [
    "mli.insights.feature_effect_summary(results)"
   ]
  },
  {
   "cell_type": "code",
   "execution_count": null,
   "metadata": {
    "collapsed": false
   },
   "outputs": [],
   "source": [
    "mli.insights.feature_dependence_plots(results, num_pts=7)"
   ]
  },
  {
   "cell_type": "code",
   "execution_count": null,
   "metadata": {
    "collapsed": true
   },
   "outputs": [],
   "source": []
  },
  {
   "cell_type": "code",
   "execution_count": null,
   "metadata": {
    "collapsed": true
   },
   "outputs": [],
   "source": []
  },
  {
   "cell_type": "code",
   "execution_count": null,
   "metadata": {
    "collapsed": false
   },
   "outputs": [],
   "source": [
    "def path_between_points(data_row_1, data_row_2, model, tol=.001, verbose=True):\n",
    "    column_names = data_row_1.index\n",
    "    num_columns = len(column_names)\n",
    "    \n",
    "    dr_1 = data_row_1.values.reshape(1,-1)\n",
    "    dr_2 = data_row_2.values.reshape(1,-1)\n",
    "    column_list = list(range(num_columns))\n",
    "    curr_pt = np.copy(dr_1)\n",
    "    val1 = model.predict(dr_1)[0]\n",
    "    val2 = model.predict(dr_2)[0]\n",
    "    if verbose:\n",
    "        print('Your initial point has a target value of {}'.format(val1))\n",
    "        print('Your final point has a target value of {}'.format(val2))\n",
    "    pt_list = [dr_1]\n",
    "    val_list = [val1]\n",
    "    curr_val = val1\n",
    "    final_val = val2\n",
    "    feat_list =[]\n",
    "    move_list = []\n",
    "    feat_val_change_list = []\n",
    "    #for num_steps in range(4):\n",
    "    while (((curr_val/final_val) >(1+tol)) or ((curr_val/final_val) <(1-tol))):\n",
    "        biggest_move = 0\n",
    "        best_column = -1\n",
    "        best_val = curr_val\n",
    "        for i in column_list:\n",
    "            test_pt = np.copy(curr_pt)\n",
    "            prev_feat_val = test_pt[0,i]\n",
    "            subst_val = dr_2[0,i]\n",
    "            test_pt[0,i] = subst_val\n",
    "            test_val = model.predict(test_pt)[0]\n",
    "            move_size = (test_val - curr_val)\n",
    "            if(np.abs(move_size)>=np.abs(biggest_move)):\n",
    "                biggest_move = move_size\n",
    "                best_column = i\n",
    "                best_val = test_val\n",
    "                old_feat_val = prev_feat_val\n",
    "                new_feat_val = subst_val\n",
    "        subst_val = dr_2[0,best_column]\n",
    "        curr_pt[0,best_column] = subst_val\n",
    "        val_list.append(best_val)\n",
    "        curr_val = best_val\n",
    "        if verbose:\n",
    "            print('Changing {} from {} to {}'.format(column_names[best_column],old_feat_val,new_feat_val))\n",
    "            print('Changes your target by {} to {}'.format(biggest_move, best_val))\n",
    "            if not (((curr_val/final_val) >(1+tol)) or ((curr_val/final_val) <(1-tol))):\n",
    "                print('Tolerance of {} reached'.format(tol))\n",
    "                print('Current value of {} is within {}% of {}'.format(curr_val,(100*tol),final_val))\n",
    "        feat_list.append(column_names[best_column])\n",
    "        column_list.remove(best_column)\n",
    "        move_list.append(biggest_move)\n",
    "        feat_val_change_list.append((old_feat_val, new_feat_val))\n",
    "    return feat_list, feat_val_change_list, move_list, val_list\n",
    "            "
   ]
  },
  {
   "cell_type": "code",
   "execution_count": null,
   "metadata": {
    "collapsed": false
   },
   "outputs": [],
   "source": [
    "dr1 = X_test.iloc[21,:]\n",
    "dr2 = X_test.iloc[58,:]\n"
   ]
  },
  {
   "cell_type": "code",
   "execution_count": null,
   "metadata": {
    "collapsed": false
   },
   "outputs": [],
   "source": [
    "path_between_points(dr1, dr2, gbmodel1, tol=.01)"
   ]
  },
  {
   "cell_type": "code",
   "execution_count": null,
   "metadata": {
    "collapsed": true
   },
   "outputs": [],
   "source": [
    "mxr = mli.ModelXRay(gbmodel1, X_test.sample(500))"
   ]
  }
 ],
 "metadata": {
  "kernelspec": {
   "display_name": "Python 3",
   "language": "python",
   "name": "python3"
  },
  "language_info": {
   "codemirror_mode": {
    "name": "ipython",
    "version": 3
   },
   "file_extension": ".py",
   "mimetype": "text/x-python",
   "name": "python",
   "nbconvert_exporter": "python",
   "pygments_lexer": "ipython3",
   "version": "3.5.1"
  }
 },
 "nbformat": 4,
 "nbformat_minor": 0
}
